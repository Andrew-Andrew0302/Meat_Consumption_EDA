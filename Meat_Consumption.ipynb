{
 "cells": [
  {
   "cell_type": "markdown",
   "id": "9e856955-da14-4782-813f-5983ee59f35a",
   "metadata": {},
   "source": [
    "# Meat Consumption - EDA \n",
    "\n",
    "This data exploration will show the trends between the different types of meat consumption, allowing us to observe the trends of the demands of the meat types. Through this analysis, we aim to understand the correlation and trends that occur with meat consumption and can provide various stakeholders insights in the food industry and aid in making better decision making processes in meat production and supply.\n",
    "\n",
    "Content:\n",
    "This dataset has 5 columns:\n",
    "- Location: The country code name\n",
    "- Subject: The type of meat\n",
    "- Time: The year the data was recovered\n",
    "- Measure: The type of measurement \n",
    "- Value: Value according to the measure column\n",
    "\n",
    "Questions to Answer:\n",
    "- Which type of meat was most consumed in the world?\n",
    "- Which year had the most meat consumption?\n",
    "- What is the most consumed meat in Indonesia?\n",
    "- How is Indonesia's meat consumption compared to with the rest of the world?"
   ]
  },
  {
   "cell_type": "markdown",
   "id": "4641418b-a97b-4584-b6bc-585d697622ca",
   "metadata": {},
   "source": [
    "## Importing Libraries"
   ]
  },
  {
   "cell_type": "code",
   "execution_count": 1,
   "id": "f88bd04e-bcdf-4be5-be38-afcfd24fd236",
   "metadata": {},
   "outputs": [],
   "source": [
    "import pandas as pd\n",
    "import numpy as np\n",
    "import matplotlib.pyplot as plt\n",
    "import seaborn as sns"
   ]
  },
  {
   "cell_type": "markdown",
   "id": "1a74c893-de5d-4409-b887-26a7dfd04358",
   "metadata": {},
   "source": [
    "### Exploratory data analysis"
   ]
  },
  {
   "cell_type": "code",
   "execution_count": 2,
   "id": "6825782b-db98-4272-86cb-3d930e33f608",
   "metadata": {},
   "outputs": [
    {
     "data": {
      "text/html": [
       "<div>\n",
       "<style scoped>\n",
       "    .dataframe tbody tr th:only-of-type {\n",
       "        vertical-align: middle;\n",
       "    }\n",
       "\n",
       "    .dataframe tbody tr th {\n",
       "        vertical-align: top;\n",
       "    }\n",
       "\n",
       "    .dataframe thead th {\n",
       "        text-align: right;\n",
       "    }\n",
       "</style>\n",
       "<table border=\"1\" class=\"dataframe\">\n",
       "  <thead>\n",
       "    <tr style=\"text-align: right;\">\n",
       "      <th></th>\n",
       "      <th>LOCATION</th>\n",
       "      <th>SUBJECT</th>\n",
       "      <th>MEASURE</th>\n",
       "      <th>TIME</th>\n",
       "      <th>Value</th>\n",
       "    </tr>\n",
       "  </thead>\n",
       "  <tbody>\n",
       "    <tr>\n",
       "      <th>0</th>\n",
       "      <td>AUS</td>\n",
       "      <td>BEEF</td>\n",
       "      <td>KG_CAP</td>\n",
       "      <td>1991</td>\n",
       "      <td>27.721815</td>\n",
       "    </tr>\n",
       "    <tr>\n",
       "      <th>1</th>\n",
       "      <td>AUS</td>\n",
       "      <td>BEEF</td>\n",
       "      <td>KG_CAP</td>\n",
       "      <td>1992</td>\n",
       "      <td>26.199591</td>\n",
       "    </tr>\n",
       "    <tr>\n",
       "      <th>2</th>\n",
       "      <td>AUS</td>\n",
       "      <td>BEEF</td>\n",
       "      <td>KG_CAP</td>\n",
       "      <td>1993</td>\n",
       "      <td>26.169094</td>\n",
       "    </tr>\n",
       "    <tr>\n",
       "      <th>3</th>\n",
       "      <td>AUS</td>\n",
       "      <td>BEEF</td>\n",
       "      <td>KG_CAP</td>\n",
       "      <td>1994</td>\n",
       "      <td>25.456134</td>\n",
       "    </tr>\n",
       "    <tr>\n",
       "      <th>4</th>\n",
       "      <td>AUS</td>\n",
       "      <td>BEEF</td>\n",
       "      <td>KG_CAP</td>\n",
       "      <td>1995</td>\n",
       "      <td>25.340226</td>\n",
       "    </tr>\n",
       "  </tbody>\n",
       "</table>\n",
       "</div>"
      ],
      "text/plain": [
       "  LOCATION SUBJECT MEASURE  TIME      Value\n",
       "0      AUS    BEEF  KG_CAP  1991  27.721815\n",
       "1      AUS    BEEF  KG_CAP  1992  26.199591\n",
       "2      AUS    BEEF  KG_CAP  1993  26.169094\n",
       "3      AUS    BEEF  KG_CAP  1994  25.456134\n",
       "4      AUS    BEEF  KG_CAP  1995  25.340226"
      ]
     },
     "execution_count": 2,
     "metadata": {},
     "output_type": "execute_result"
    }
   ],
   "source": [
    "df = pd.read_csv(\"Data/meat_consumption.csv\")\n",
    "# Changing tonnes to kg\n",
    "df.loc[df[\"MEASURE\"] == \"THND_TONNE\", \"Value\"] = df[\"Value\"] * 1000\n",
    "\n",
    "df.head()"
   ]
  },
  {
   "cell_type": "code",
   "execution_count": 3,
   "id": "6c325e5d-e996-446c-bf9b-9336533c8a85",
   "metadata": {},
   "outputs": [
    {
     "name": "stdout",
     "output_type": "stream",
     "text": [
      "<class 'pandas.core.frame.DataFrame'>\n",
      "RangeIndex: 13760 entries, 0 to 13759\n",
      "Data columns (total 5 columns):\n",
      " #   Column    Non-Null Count  Dtype  \n",
      "---  ------    --------------  -----  \n",
      " 0   LOCATION  13760 non-null  object \n",
      " 1   SUBJECT   13760 non-null  object \n",
      " 2   MEASURE   13760 non-null  object \n",
      " 3   TIME      13760 non-null  int64  \n",
      " 4   Value     13760 non-null  float64\n",
      "dtypes: float64(1), int64(1), object(3)\n",
      "memory usage: 537.6+ KB\n"
     ]
    }
   ],
   "source": [
    "df.info()"
   ]
  },
  {
   "cell_type": "code",
   "execution_count": 4,
   "id": "69f9f667-fbb6-4426-bf9f-e735b9a1c433",
   "metadata": {},
   "outputs": [
    {
     "data": {
      "text/html": [
       "<div>\n",
       "<style scoped>\n",
       "    .dataframe tbody tr th:only-of-type {\n",
       "        vertical-align: middle;\n",
       "    }\n",
       "\n",
       "    .dataframe tbody tr th {\n",
       "        vertical-align: top;\n",
       "    }\n",
       "\n",
       "    .dataframe thead th {\n",
       "        text-align: right;\n",
       "    }\n",
       "</style>\n",
       "<table border=\"1\" class=\"dataframe\">\n",
       "  <thead>\n",
       "    <tr style=\"text-align: right;\">\n",
       "      <th></th>\n",
       "      <th>TIME</th>\n",
       "      <th>Value</th>\n",
       "    </tr>\n",
       "  </thead>\n",
       "  <tbody>\n",
       "    <tr>\n",
       "      <th>count</th>\n",
       "      <td>13760.000000</td>\n",
       "      <td>1.376000e+04</td>\n",
       "    </tr>\n",
       "    <tr>\n",
       "      <th>mean</th>\n",
       "      <td>2008.175291</td>\n",
       "      <td>1.857227e+06</td>\n",
       "    </tr>\n",
       "    <tr>\n",
       "      <th>std</th>\n",
       "      <td>10.600740</td>\n",
       "      <td>9.386537e+06</td>\n",
       "    </tr>\n",
       "    <tr>\n",
       "      <th>min</th>\n",
       "      <td>1990.000000</td>\n",
       "      <td>1.669000e-09</td>\n",
       "    </tr>\n",
       "    <tr>\n",
       "      <th>25%</th>\n",
       "      <td>1999.000000</td>\n",
       "      <td>4.063539e+00</td>\n",
       "    </tr>\n",
       "    <tr>\n",
       "      <th>50%</th>\n",
       "      <td>2008.000000</td>\n",
       "      <td>6.579143e+01</td>\n",
       "    </tr>\n",
       "    <tr>\n",
       "      <th>75%</th>\n",
       "      <td>2017.000000</td>\n",
       "      <td>2.967790e+05</td>\n",
       "    </tr>\n",
       "    <tr>\n",
       "      <th>max</th>\n",
       "      <td>2026.000000</td>\n",
       "      <td>1.316073e+08</td>\n",
       "    </tr>\n",
       "  </tbody>\n",
       "</table>\n",
       "</div>"
      ],
      "text/plain": [
       "               TIME         Value\n",
       "count  13760.000000  1.376000e+04\n",
       "mean    2008.175291  1.857227e+06\n",
       "std       10.600740  9.386537e+06\n",
       "min     1990.000000  1.669000e-09\n",
       "25%     1999.000000  4.063539e+00\n",
       "50%     2008.000000  6.579143e+01\n",
       "75%     2017.000000  2.967790e+05\n",
       "max     2026.000000  1.316073e+08"
      ]
     },
     "execution_count": 4,
     "metadata": {},
     "output_type": "execute_result"
    }
   ],
   "source": [
    "df.describe()"
   ]
  },
  {
   "cell_type": "markdown",
   "id": "f14bf0d9-009a-4930-bdc4-bbff036acbc3",
   "metadata": {},
   "source": [
    "Next, we want to get the different locations in the dataset."
   ]
  },
  {
   "cell_type": "code",
   "execution_count": 5,
   "id": "0b084c13-afd9-4abb-b8d9-6e23306008f1",
   "metadata": {},
   "outputs": [
    {
     "data": {
      "text/plain": [
       "array(['AUS', 'CAN', 'JPN', 'KOR', 'MEX', 'NZL', 'TUR', 'USA', 'DZA',\n",
       "       'ARG', 'BGD', 'BRA', 'CHL', 'CHN', 'COL', 'EGY', 'ETH', 'GHA',\n",
       "       'HTI', 'IND', 'IDN', 'IRN', 'ISR', 'KAZ', 'MYS', 'MOZ', 'NGA',\n",
       "       'PAK', 'PRY', 'PER', 'PHL', 'RUS', 'SAU', 'ZAF', 'SDN', 'TZA',\n",
       "       'THA', 'UKR', 'URY', 'VNM', 'ZMB', 'WLD', 'SSA', 'OECD', 'BRICS',\n",
       "       'EU28', 'NOR', 'CHE'], dtype=object)"
      ]
     },
     "execution_count": 5,
     "metadata": {},
     "output_type": "execute_result"
    }
   ],
   "source": [
    "df[\"LOCATION\"].unique()"
   ]
  },
  {
   "cell_type": "code",
   "execution_count": 6,
   "id": "c1e2df7f-343f-4b29-be97-f675b179fa13",
   "metadata": {},
   "outputs": [
    {
     "data": {
      "text/plain": [
       "LOCATION    0\n",
       "SUBJECT     0\n",
       "MEASURE     0\n",
       "TIME        0\n",
       "Value       0\n",
       "dtype: int64"
      ]
     },
     "execution_count": 6,
     "metadata": {},
     "output_type": "execute_result"
    }
   ],
   "source": [
    "df.isnull().sum()"
   ]
  },
  {
   "cell_type": "code",
   "execution_count": 7,
   "id": "21cc5c1a-6d9d-4f56-90d4-bdb8c7e5c94e",
   "metadata": {},
   "outputs": [
    {
     "data": {
      "text/plain": [
       "0"
      ]
     },
     "execution_count": 7,
     "metadata": {},
     "output_type": "execute_result"
    }
   ],
   "source": [
    "df.duplicated().sum()"
   ]
  },
  {
   "cell_type": "markdown",
   "id": "1ab1ac92-9ebf-4614-aafe-d5d2a984fa33",
   "metadata": {},
   "source": [
    "## Which type of meat was most consumed in the world?"
   ]
  },
  {
   "cell_type": "code",
   "execution_count": 8,
   "id": "f17cec9f-c60c-4f65-8095-a5d82ac80ae7",
   "metadata": {},
   "outputs": [
    {
     "data": {
      "text/html": [
       "<div>\n",
       "<style scoped>\n",
       "    .dataframe tbody tr th:only-of-type {\n",
       "        vertical-align: middle;\n",
       "    }\n",
       "\n",
       "    .dataframe tbody tr th {\n",
       "        vertical-align: top;\n",
       "    }\n",
       "\n",
       "    .dataframe thead th {\n",
       "        text-align: right;\n",
       "    }\n",
       "</style>\n",
       "<table border=\"1\" class=\"dataframe\">\n",
       "  <thead>\n",
       "    <tr style=\"text-align: right;\">\n",
       "      <th></th>\n",
       "      <th>LOCATION</th>\n",
       "      <th>SUBJECT</th>\n",
       "      <th>MEASURE</th>\n",
       "      <th>TIME</th>\n",
       "      <th>Value</th>\n",
       "    </tr>\n",
       "  </thead>\n",
       "  <tbody>\n",
       "    <tr>\n",
       "      <th>0</th>\n",
       "      <td>AUS</td>\n",
       "      <td>BEEF</td>\n",
       "      <td>KG_CAP</td>\n",
       "      <td>1991</td>\n",
       "      <td>27.721815</td>\n",
       "    </tr>\n",
       "    <tr>\n",
       "      <th>1</th>\n",
       "      <td>AUS</td>\n",
       "      <td>BEEF</td>\n",
       "      <td>KG_CAP</td>\n",
       "      <td>1992</td>\n",
       "      <td>26.199591</td>\n",
       "    </tr>\n",
       "    <tr>\n",
       "      <th>2</th>\n",
       "      <td>AUS</td>\n",
       "      <td>BEEF</td>\n",
       "      <td>KG_CAP</td>\n",
       "      <td>1993</td>\n",
       "      <td>26.169094</td>\n",
       "    </tr>\n",
       "    <tr>\n",
       "      <th>3</th>\n",
       "      <td>AUS</td>\n",
       "      <td>BEEF</td>\n",
       "      <td>KG_CAP</td>\n",
       "      <td>1994</td>\n",
       "      <td>25.456134</td>\n",
       "    </tr>\n",
       "    <tr>\n",
       "      <th>4</th>\n",
       "      <td>AUS</td>\n",
       "      <td>BEEF</td>\n",
       "      <td>KG_CAP</td>\n",
       "      <td>1995</td>\n",
       "      <td>25.340226</td>\n",
       "    </tr>\n",
       "  </tbody>\n",
       "</table>\n",
       "</div>"
      ],
      "text/plain": [
       "  LOCATION SUBJECT MEASURE  TIME      Value\n",
       "0      AUS    BEEF  KG_CAP  1991  27.721815\n",
       "1      AUS    BEEF  KG_CAP  1992  26.199591\n",
       "2      AUS    BEEF  KG_CAP  1993  26.169094\n",
       "3      AUS    BEEF  KG_CAP  1994  25.456134\n",
       "4      AUS    BEEF  KG_CAP  1995  25.340226"
      ]
     },
     "execution_count": 8,
     "metadata": {},
     "output_type": "execute_result"
    }
   ],
   "source": [
    "df.head()"
   ]
  },
  {
   "cell_type": "code",
   "execution_count": 9,
   "id": "793a309e-6584-4ae2-af41-aacca3295e81",
   "metadata": {},
   "outputs": [
    {
     "data": {
      "text/html": [
       "<div>\n",
       "<style scoped>\n",
       "    .dataframe tbody tr th:only-of-type {\n",
       "        vertical-align: middle;\n",
       "    }\n",
       "\n",
       "    .dataframe tbody tr th {\n",
       "        vertical-align: top;\n",
       "    }\n",
       "\n",
       "    .dataframe thead th {\n",
       "        text-align: right;\n",
       "    }\n",
       "</style>\n",
       "<table border=\"1\" class=\"dataframe\">\n",
       "  <thead>\n",
       "    <tr style=\"text-align: right;\">\n",
       "      <th></th>\n",
       "      <th>LOCATION</th>\n",
       "      <th>SUBJECT</th>\n",
       "      <th>Value</th>\n",
       "    </tr>\n",
       "  </thead>\n",
       "  <tbody>\n",
       "    <tr>\n",
       "      <th>0</th>\n",
       "      <td>ARG</td>\n",
       "      <td>BEEF</td>\n",
       "      <td>9.092339e+07</td>\n",
       "    </tr>\n",
       "    <tr>\n",
       "      <th>1</th>\n",
       "      <td>ARG</td>\n",
       "      <td>PIG</td>\n",
       "      <td>1.294603e+07</td>\n",
       "    </tr>\n",
       "    <tr>\n",
       "      <th>2</th>\n",
       "      <td>ARG</td>\n",
       "      <td>POULTRY</td>\n",
       "      <td>4.887714e+07</td>\n",
       "    </tr>\n",
       "    <tr>\n",
       "      <th>3</th>\n",
       "      <td>ARG</td>\n",
       "      <td>SHEEP</td>\n",
       "      <td>2.224558e+06</td>\n",
       "    </tr>\n",
       "    <tr>\n",
       "      <th>4</th>\n",
       "      <td>AUS</td>\n",
       "      <td>BEEF</td>\n",
       "      <td>2.635333e+07</td>\n",
       "    </tr>\n",
       "  </tbody>\n",
       "</table>\n",
       "</div>"
      ],
      "text/plain": [
       "  LOCATION  SUBJECT         Value\n",
       "0      ARG     BEEF  9.092339e+07\n",
       "1      ARG      PIG  1.294603e+07\n",
       "2      ARG  POULTRY  4.887714e+07\n",
       "3      ARG    SHEEP  2.224558e+06\n",
       "4      AUS     BEEF  2.635333e+07"
      ]
     },
     "execution_count": 9,
     "metadata": {},
     "output_type": "execute_result"
    }
   ],
   "source": [
    "global_mc = df.groupby([\"LOCATION\",\"SUBJECT\"])[\"Value\"].sum().reset_index()\n",
    "global_mc.head()"
   ]
  },
  {
   "cell_type": "code",
   "execution_count": 10,
   "id": "29c8856e-f681-4fb3-abf8-8b791866e144",
   "metadata": {},
   "outputs": [
    {
     "data": {
      "text/html": [
       "<div>\n",
       "<style scoped>\n",
       "    .dataframe tbody tr th:only-of-type {\n",
       "        vertical-align: middle;\n",
       "    }\n",
       "\n",
       "    .dataframe tbody tr th {\n",
       "        vertical-align: top;\n",
       "    }\n",
       "\n",
       "    .dataframe thead th {\n",
       "        text-align: right;\n",
       "    }\n",
       "</style>\n",
       "<table border=\"1\" class=\"dataframe\">\n",
       "  <thead>\n",
       "    <tr style=\"text-align: right;\">\n",
       "      <th></th>\n",
       "      <th>LOCATION</th>\n",
       "      <th>SUBJECT</th>\n",
       "      <th>Value</th>\n",
       "    </tr>\n",
       "  </thead>\n",
       "  <tbody>\n",
       "    <tr>\n",
       "      <th>181</th>\n",
       "      <td>WLD</td>\n",
       "      <td>PIG</td>\n",
       "      <td>3.570178e+09</td>\n",
       "    </tr>\n",
       "    <tr>\n",
       "      <th>182</th>\n",
       "      <td>WLD</td>\n",
       "      <td>POULTRY</td>\n",
       "      <td>3.258152e+09</td>\n",
       "    </tr>\n",
       "    <tr>\n",
       "      <th>17</th>\n",
       "      <td>BRICS</td>\n",
       "      <td>PIG</td>\n",
       "      <td>1.843963e+09</td>\n",
       "    </tr>\n",
       "    <tr>\n",
       "      <th>180</th>\n",
       "      <td>WLD</td>\n",
       "      <td>BEEF</td>\n",
       "      <td>1.813843e+09</td>\n",
       "    </tr>\n",
       "    <tr>\n",
       "      <th>33</th>\n",
       "      <td>CHN</td>\n",
       "      <td>PIG</td>\n",
       "      <td>1.700177e+09</td>\n",
       "    </tr>\n",
       "  </tbody>\n",
       "</table>\n",
       "</div>"
      ],
      "text/plain": [
       "    LOCATION  SUBJECT         Value\n",
       "181      WLD      PIG  3.570178e+09\n",
       "182      WLD  POULTRY  3.258152e+09\n",
       "17     BRICS      PIG  1.843963e+09\n",
       "180      WLD     BEEF  1.813843e+09\n",
       "33       CHN      PIG  1.700177e+09"
      ]
     },
     "execution_count": 10,
     "metadata": {},
     "output_type": "execute_result"
    }
   ],
   "source": [
    "global_mc_bar = global_mc.sort_values(\"Value\", ascending = False)\n",
    "global_mc_bar.head()"
   ]
  },
  {
   "cell_type": "code",
   "execution_count": 11,
   "id": "ce144372-1926-4437-8d90-81f37b2d1d49",
   "metadata": {},
   "outputs": [
    {
     "data": {
      "text/plain": [
       "<AxesSubplot:xlabel='LOCATION', ylabel='Value'>"
      ]
     },
     "execution_count": 11,
     "metadata": {},
     "output_type": "execute_result"
    },
    {
     "data": {
      "image/png": "[encoded data removed]",
      "text/plain": [
       "<Figure size 640x480 with 1 Axes>"
      ]
     },
     "metadata": {},
     "output_type": "display_data"
    }
   ],
   "source": [
    "sns.barplot(data = global_mc_bar.head(20), x = \"LOCATION\", y = \"Value\", hue = \"SUBJECT\")"
   ]
  },
  {
   "cell_type": "markdown",
   "id": "4dc49fda-89a0-4d18-8f13-ba24e106ae3c",
   "metadata": {},
   "source": [
    "Initially, we can see that the type of meat most consumed in the world is PIG followed by poultry, beef then sheep. We can see that countries such as BRICS, China, USA and Brazil are also leading in total meat consumption in the world."
   ]
  },
  {
   "cell_type": "code",
   "execution_count": 12,
   "id": "7efbb870-1a57-4fc3-acab-16aee02689d3",
   "metadata": {},
   "outputs": [
    {
     "data": {
      "text/plain": [
       "([<matplotlib.patches.Wedge at 0x7fd9c9a856a0>,\n",
       "  <matplotlib.patches.Wedge at 0x7fd9c9a85dc0>,\n",
       "  <matplotlib.patches.Wedge at 0x7fd9b819e520>,\n",
       "  <matplotlib.patches.Wedge at 0x7fd9b819ec40>],\n",
       " [Text(-0.6693924925700266, 0.8728766756483342, 'BEEF'),\n",
       "  Text(-0.6350678353567397, -1.0181791809378666, 'PIG'),\n",
       "  Text(1.0748103254410402, 0.23405718174267898, 'POULTRY'),\n",
       "  Text(0.17276784149334326, 1.1874979043963536, 'SHEEP')],\n",
       " [Text(-0.36512317776546904, 0.4761145503536367, '20.8%'),\n",
       "  Text(-0.3704562372914315, -0.5939378555470889, '40.6%'),\n",
       "  Text(0.5862601775132945, 0.12766755367782487, '34.0%'),\n",
       "  Text(0.1007812408711169, 0.6927071108978728, '4.6%')])"
      ]
     },
     "execution_count": 12,
     "metadata": {},
     "output_type": "execute_result"
    },
    {
     "data": {
      "image/png": "[encoded data removed]",
      "text/plain": [
       "<Figure size 600x600 with 1 Axes>"
      ]
     },
     "metadata": {},
     "output_type": "display_data"
    }
   ],
   "source": [
    "type_subject = global_mc.groupby(\"SUBJECT\")[\"Value\"].sum()\n",
    "colors = ['r', 'y','g', 'b']\n",
    "\n",
    "plt.figure(figsize = (6,6))\n",
    "\n",
    "plt.pie(type_subject, labels = type_subject.index, colors = colors, startangle = 90,autopct = \"%1.1f%%\", explode = (0,0.1,0,0.1))"
   ]
  },
  {
   "cell_type": "markdown",
   "id": "a59d97d2-73a4-4508-bd11-410cc23dea1d",
   "metadata": {},
   "source": [
    "With the pie chart, we can clearly observe that the most consumed meat is Pig with 40.6% of the total meat consumed. Followed by poultry (34.0%), beef (20.8%) and lastly sheep (4.6%)."
   ]
  },
  {
   "cell_type": "markdown",
   "id": "4f315596-2e60-4dec-9217-ab570a621afa",
   "metadata": {},
   "source": [
    "## Which year had the most meat consumption?"
   ]
  },
  {
   "cell_type": "code",
   "execution_count": 13,
   "id": "7c9621d3-edd8-4156-aa6e-d71c9f6d495a",
   "metadata": {},
   "outputs": [
    {
     "data": {
      "text/html": [
       "<div>\n",
       "<style scoped>\n",
       "    .dataframe tbody tr th:only-of-type {\n",
       "        vertical-align: middle;\n",
       "    }\n",
       "\n",
       "    .dataframe tbody tr th {\n",
       "        vertical-align: top;\n",
       "    }\n",
       "\n",
       "    .dataframe thead th {\n",
       "        text-align: right;\n",
       "    }\n",
       "</style>\n",
       "<table border=\"1\" class=\"dataframe\">\n",
       "  <thead>\n",
       "    <tr style=\"text-align: right;\">\n",
       "      <th></th>\n",
       "      <th>TIME</th>\n",
       "      <th>SUBJECT</th>\n",
       "      <th>Value</th>\n",
       "    </tr>\n",
       "  </thead>\n",
       "  <tbody>\n",
       "    <tr>\n",
       "      <th>0</th>\n",
       "      <td>1990</td>\n",
       "      <td>BEEF</td>\n",
       "      <td>3.541553e+07</td>\n",
       "    </tr>\n",
       "    <tr>\n",
       "      <th>1</th>\n",
       "      <td>1990</td>\n",
       "      <td>PIG</td>\n",
       "      <td>6.172027e+07</td>\n",
       "    </tr>\n",
       "    <tr>\n",
       "      <th>2</th>\n",
       "      <td>1990</td>\n",
       "      <td>POULTRY</td>\n",
       "      <td>5.417584e+07</td>\n",
       "    </tr>\n",
       "    <tr>\n",
       "      <th>3</th>\n",
       "      <td>1990</td>\n",
       "      <td>SHEEP</td>\n",
       "      <td>1.075460e+07</td>\n",
       "    </tr>\n",
       "    <tr>\n",
       "      <th>4</th>\n",
       "      <td>1991</td>\n",
       "      <td>BEEF</td>\n",
       "      <td>3.714596e+07</td>\n",
       "    </tr>\n",
       "  </tbody>\n",
       "</table>\n",
       "</div>"
      ],
      "text/plain": [
       "   TIME  SUBJECT         Value\n",
       "0  1990     BEEF  3.541553e+07\n",
       "1  1990      PIG  6.172027e+07\n",
       "2  1990  POULTRY  5.417584e+07\n",
       "3  1990    SHEEP  1.075460e+07\n",
       "4  1991     BEEF  3.714596e+07"
      ]
     },
     "execution_count": 13,
     "metadata": {},
     "output_type": "execute_result"
    }
   ],
   "source": [
    "year_df = df.groupby(['TIME','SUBJECT'])['Value'].sum().reset_index()\n",
    "year_df.head()"
   ]
  },
  {
   "cell_type": "code",
   "execution_count": 25,
   "id": "30fe9624-5258-44f8-8b75-c7c9e5cddbcb",
   "metadata": {},
   "outputs": [
    {
     "data": {
      "text/plain": [
       "[Text(0.5, 0, 'Years'), Text(0, 0.5, 'Value (kg)')]"
      ]
     },
     "execution_count": 25,
     "metadata": {},
     "output_type": "execute_result"
    },
    {
     "data": {
      "image/png": "[encoded data removed]",
      "text/plain": [
       "<Figure size 1000x600 with 1 Axes>"
      ]
     },
     "metadata": {},
     "output_type": "display_data"
    }
   ],
   "source": [
    "plt.figure(figsize = (10,6))\n",
    "ax = sns.lineplot(data = year_df, x = \"TIME\", y = \"Value\", hue = \"SUBJECT\", marker = \"o\", dashes = False)\n",
    "ax.set(xlabel = \"Years\", ylabel = \"Value (kg)\")"
   ]
  },
  {
   "cell_type": "markdown",
   "id": "3f4a5dfa-c4aa-4653-8b67-37ca1b6a97cc",
   "metadata": {},
   "source": [
    "The overall trend is that meat consumption has increased over the years as the world's population has generally increased as well. We can initially see a huge increase of meat consumption for poultry and pig in 1990-1995. Following that, poultry has also exponentially increased having 600% increase in consumption. In addition, there was an increase of 300% for beef in the year 2000. "
   ]
  },
  {
   "cell_type": "markdown",
   "id": "7d1a05ae-31ed-4d6f-bf04-07a3edee5fd2",
   "metadata": {},
   "source": [
    "## Meat Consumption in Indonesia\n",
    "\n",
    "As Indonesia is a muslim-dominated country, with 87% of the population adhereing towards the muslim religion, there would be little to no consumption of pig as it goes against their religious beliefs.\n",
    "\n",
    "In adddition, factors such as urbinzation, evolving lifestyles and rising incomes leads to an increase in meat consumption.Indonesian cuisine itself has numerous dishes centered around beef, poultry and sheep. Beef is usually used to make meat-based dishes such as rendang, poultry is used in mostly satay due to its accessability and suistainability and sheep is mostly used for religious purposes.\n",
    "\n",
    "Pork is only consumed in areas where non-muslim individuals tend to stay at. \n",
    "\n",
    "Thus, Indonesia's meat consumption is deeply correlated with their religious practices, culinary heritage and economic standing. Sheep, poultry and beef is mostly consumed while pork is not due to religion."
   ]
  },
  {
   "cell_type": "code",
   "execution_count": 15,
   "id": "16b6f722-138e-4287-93f3-b9c7bace6e64",
   "metadata": {},
   "outputs": [
    {
     "data": {
      "text/html": [
       "<div>\n",
       "<style scoped>\n",
       "    .dataframe tbody tr th:only-of-type {\n",
       "        vertical-align: middle;\n",
       "    }\n",
       "\n",
       "    .dataframe tbody tr th {\n",
       "        vertical-align: top;\n",
       "    }\n",
       "\n",
       "    .dataframe thead th {\n",
       "        text-align: right;\n",
       "    }\n",
       "</style>\n",
       "<table border=\"1\" class=\"dataframe\">\n",
       "  <thead>\n",
       "    <tr style=\"text-align: right;\">\n",
       "      <th></th>\n",
       "      <th>LOCATION</th>\n",
       "      <th>SUBJECT</th>\n",
       "      <th>MEASURE</th>\n",
       "      <th>TIME</th>\n",
       "      <th>Value</th>\n",
       "    </tr>\n",
       "  </thead>\n",
       "  <tbody>\n",
       "    <tr>\n",
       "      <th>2942</th>\n",
       "      <td>IDN</td>\n",
       "      <td>BEEF</td>\n",
       "      <td>KG_CAP</td>\n",
       "      <td>1990</td>\n",
       "      <td>1.180576</td>\n",
       "    </tr>\n",
       "    <tr>\n",
       "      <th>2943</th>\n",
       "      <td>IDN</td>\n",
       "      <td>BEEF</td>\n",
       "      <td>KG_CAP</td>\n",
       "      <td>1991</td>\n",
       "      <td>1.190587</td>\n",
       "    </tr>\n",
       "    <tr>\n",
       "      <th>2944</th>\n",
       "      <td>IDN</td>\n",
       "      <td>BEEF</td>\n",
       "      <td>KG_CAP</td>\n",
       "      <td>1992</td>\n",
       "      <td>1.293658</td>\n",
       "    </tr>\n",
       "    <tr>\n",
       "      <th>2945</th>\n",
       "      <td>IDN</td>\n",
       "      <td>BEEF</td>\n",
       "      <td>KG_CAP</td>\n",
       "      <td>1993</td>\n",
       "      <td>1.477944</td>\n",
       "    </tr>\n",
       "    <tr>\n",
       "      <th>2946</th>\n",
       "      <td>IDN</td>\n",
       "      <td>BEEF</td>\n",
       "      <td>KG_CAP</td>\n",
       "      <td>1994</td>\n",
       "      <td>1.414871</td>\n",
       "    </tr>\n",
       "    <tr>\n",
       "      <th>...</th>\n",
       "      <td>...</td>\n",
       "      <td>...</td>\n",
       "      <td>...</td>\n",
       "      <td>...</td>\n",
       "      <td>...</td>\n",
       "    </tr>\n",
       "    <tr>\n",
       "      <th>13312</th>\n",
       "      <td>IDN</td>\n",
       "      <td>SHEEP</td>\n",
       "      <td>THND_TONNE</td>\n",
       "      <td>2019</td>\n",
       "      <td>125707.218226</td>\n",
       "    </tr>\n",
       "    <tr>\n",
       "      <th>13313</th>\n",
       "      <td>IDN</td>\n",
       "      <td>SHEEP</td>\n",
       "      <td>THND_TONNE</td>\n",
       "      <td>2020</td>\n",
       "      <td>128507.021668</td>\n",
       "    </tr>\n",
       "    <tr>\n",
       "      <th>13314</th>\n",
       "      <td>IDN</td>\n",
       "      <td>SHEEP</td>\n",
       "      <td>THND_TONNE</td>\n",
       "      <td>2021</td>\n",
       "      <td>131434.793636</td>\n",
       "    </tr>\n",
       "    <tr>\n",
       "      <th>13315</th>\n",
       "      <td>IDN</td>\n",
       "      <td>SHEEP</td>\n",
       "      <td>THND_TONNE</td>\n",
       "      <td>2022</td>\n",
       "      <td>134412.142275</td>\n",
       "    </tr>\n",
       "    <tr>\n",
       "      <th>13316</th>\n",
       "      <td>IDN</td>\n",
       "      <td>SHEEP</td>\n",
       "      <td>THND_TONNE</td>\n",
       "      <td>2023</td>\n",
       "      <td>137504.758726</td>\n",
       "    </tr>\n",
       "  </tbody>\n",
       "</table>\n",
       "<p>272 rows × 5 columns</p>\n",
       "</div>"
      ],
      "text/plain": [
       "      LOCATION SUBJECT     MEASURE  TIME          Value\n",
       "2942       IDN    BEEF      KG_CAP  1990       1.180576\n",
       "2943       IDN    BEEF      KG_CAP  1991       1.190587\n",
       "2944       IDN    BEEF      KG_CAP  1992       1.293658\n",
       "2945       IDN    BEEF      KG_CAP  1993       1.477944\n",
       "2946       IDN    BEEF      KG_CAP  1994       1.414871\n",
       "...        ...     ...         ...   ...            ...\n",
       "13312      IDN   SHEEP  THND_TONNE  2019  125707.218226\n",
       "13313      IDN   SHEEP  THND_TONNE  2020  128507.021668\n",
       "13314      IDN   SHEEP  THND_TONNE  2021  131434.793636\n",
       "13315      IDN   SHEEP  THND_TONNE  2022  134412.142275\n",
       "13316      IDN   SHEEP  THND_TONNE  2023  137504.758726\n",
       "\n",
       "[272 rows x 5 columns]"
      ]
     },
     "execution_count": 15,
     "metadata": {},
     "output_type": "execute_result"
    }
   ],
   "source": [
    "idn_df = df[(df['LOCATION'] == 'IDN') & (df['TIME'] <= 2023)]\n",
    "idn_df"
   ]
  },
  {
   "cell_type": "code",
   "execution_count": 16,
   "id": "f1ef3ce9-4504-401c-948f-f19f6a0e5c8f",
   "metadata": {},
   "outputs": [
    {
     "data": {
      "text/plain": [
       "LOCATION    0\n",
       "SUBJECT     0\n",
       "MEASURE     0\n",
       "TIME        0\n",
       "Value       0\n",
       "dtype: int64"
      ]
     },
     "execution_count": 16,
     "metadata": {},
     "output_type": "execute_result"
    }
   ],
   "source": [
    "idn_df.isnull().sum()"
   ]
  },
  {
   "cell_type": "code",
   "execution_count": 17,
   "id": "478ccd0c-40ea-47d2-8405-c1c15b5e18d7",
   "metadata": {},
   "outputs": [
    {
     "data": {
      "text/plain": [
       "[18107799636.91138, 22097528180.11088, 46839814519.156876, 3860637277.452437]"
      ]
     },
     "execution_count": 17,
     "metadata": {},
     "output_type": "execute_result"
    }
   ],
   "source": [
    "idn_df.loc[idn_df[\"MEASURE\"] == \"THND_TONNE\", \"Value\"] = idn_df[\"Value\"] * 1000\n",
    "\n",
    "meat_types = idn_df['SUBJECT'].unique()\n",
    "total_consumption = []\n",
    "\n",
    "for meat_type in meat_types:\n",
    "    total = idn_df[idn_df[\"SUBJECT\"] == meat_type][\"Value\"].sum()\n",
    "    total_consumption.append(total)\n",
    "total_consumption"
   ]
  },
  {
   "cell_type": "code",
   "execution_count": 18,
   "id": "dea7ba50-0740-4185-9594-769751274ae8",
   "metadata": {},
   "outputs": [
    {
     "data": {
      "image/png": "[encoded data removed]",
      "text/plain": [
       "<Figure size 640x480 with 1 Axes>"
      ]
     },
     "metadata": {},
     "output_type": "display_data"
    }
   ],
   "source": [
    "ax = sns.barplot(data = idn_df, x = meat_types, y = total_consumption)"
   ]
  },
  {
   "cell_type": "code",
   "execution_count": 19,
   "id": "96e7d85f-1eff-4ede-b75e-479677f03391",
   "metadata": {},
   "outputs": [
    {
     "data": {
      "text/plain": [
       "([<matplotlib.patches.Wedge at 0x7fd9a89ecc40>,\n",
       "  <matplotlib.patches.Wedge at 0x7fd9a89fb490>,\n",
       "  <matplotlib.patches.Wedge at 0x7fd9a89fba00>,\n",
       "  <matplotlib.patches.Wedge at 0x7fd9c9ad9160>],\n",
       " [Text(-0.6443056494964895, 0.8915549506490933, 'BEEF'),\n",
       "  Text(-1.0834249449247553, -0.5159364192560857, 'PIG'),\n",
       "  Text(1.045955019277385, -0.3405555720414003, 'POULTRY'),\n",
       "  Text(0.15962783830540767, 1.1893355091133633, 'SHEEP')],\n",
       " [Text(-0.35143944517990333, 0.4863027003540508, '19.9%'),\n",
       "  Text(-0.6319978845394405, -0.30096291123271657, '24.3%'),\n",
       "  Text(0.5705209196058463, -0.1857575847498547, '51.5%'),\n",
       "  Text(0.09311623901148779, 0.6937790469827951, '4.2%')])"
      ]
     },
     "execution_count": 19,
     "metadata": {},
     "output_type": "execute_result"
    },
    {
     "data": {
      "image/png": "[encoded data removed]",
      "text/plain": [
       "<Figure size 640x480 with 1 Axes>"
      ]
     },
     "metadata": {},
     "output_type": "display_data"
    }
   ],
   "source": [
    "plt.pie(total_consumption, labels = meat_types, colors = colors, startangle = 90,autopct = \"%1.1f%%\", explode = (0,0.1,0,0.1))"
   ]
  },
  {
   "cell_type": "markdown",
   "id": "fa8bf011-ef83-41a4-a1e1-5c44032de427",
   "metadata": {},
   "source": [
    "From this, we can see that Poultry has the highest consumption with 51.5% and suprisingly, pig is the second highest with 24.3% of meat consumed in total despite the dominant majority of people in Indonesia being muslims. Beef comes in third with 19.9% while sheep is last with 4.2%."
   ]
  },
  {
   "cell_type": "markdown",
   "id": "64b206ee-8a2b-4387-b4a9-cbf8a374f830",
   "metadata": {},
   "source": [
    "## How is Indonesia's meat consumption compared to with the rest of the world?"
   ]
  },
  {
   "cell_type": "code",
   "execution_count": 20,
   "id": "4621d399-99fc-4c40-b182-cfd5e4f33f6a",
   "metadata": {},
   "outputs": [
    {
     "data": {
      "text/html": [
       "<div>\n",
       "<style scoped>\n",
       "    .dataframe tbody tr th:only-of-type {\n",
       "        vertical-align: middle;\n",
       "    }\n",
       "\n",
       "    .dataframe tbody tr th {\n",
       "        vertical-align: top;\n",
       "    }\n",
       "\n",
       "    .dataframe thead th {\n",
       "        text-align: right;\n",
       "    }\n",
       "</style>\n",
       "<table border=\"1\" class=\"dataframe\">\n",
       "  <thead>\n",
       "    <tr style=\"text-align: right;\">\n",
       "      <th></th>\n",
       "      <th>LOCATION</th>\n",
       "      <th>SUBJECT</th>\n",
       "      <th>MEASURE</th>\n",
       "      <th>TIME</th>\n",
       "      <th>Value</th>\n",
       "    </tr>\n",
       "  </thead>\n",
       "  <tbody>\n",
       "    <tr>\n",
       "      <th>2942</th>\n",
       "      <td>IDN</td>\n",
       "      <td>BEEF</td>\n",
       "      <td>KG_CAP</td>\n",
       "      <td>1990</td>\n",
       "      <td>1.180576</td>\n",
       "    </tr>\n",
       "    <tr>\n",
       "      <th>2943</th>\n",
       "      <td>IDN</td>\n",
       "      <td>BEEF</td>\n",
       "      <td>KG_CAP</td>\n",
       "      <td>1991</td>\n",
       "      <td>1.190587</td>\n",
       "    </tr>\n",
       "    <tr>\n",
       "      <th>2944</th>\n",
       "      <td>IDN</td>\n",
       "      <td>BEEF</td>\n",
       "      <td>KG_CAP</td>\n",
       "      <td>1992</td>\n",
       "      <td>1.293658</td>\n",
       "    </tr>\n",
       "    <tr>\n",
       "      <th>2945</th>\n",
       "      <td>IDN</td>\n",
       "      <td>BEEF</td>\n",
       "      <td>KG_CAP</td>\n",
       "      <td>1993</td>\n",
       "      <td>1.477944</td>\n",
       "    </tr>\n",
       "    <tr>\n",
       "      <th>2946</th>\n",
       "      <td>IDN</td>\n",
       "      <td>BEEF</td>\n",
       "      <td>KG_CAP</td>\n",
       "      <td>1994</td>\n",
       "      <td>1.414871</td>\n",
       "    </tr>\n",
       "  </tbody>\n",
       "</table>\n",
       "</div>"
      ],
      "text/plain": [
       "     LOCATION SUBJECT MEASURE  TIME     Value\n",
       "2942      IDN    BEEF  KG_CAP  1990  1.180576\n",
       "2943      IDN    BEEF  KG_CAP  1991  1.190587\n",
       "2944      IDN    BEEF  KG_CAP  1992  1.293658\n",
       "2945      IDN    BEEF  KG_CAP  1993  1.477944\n",
       "2946      IDN    BEEF  KG_CAP  1994  1.414871"
      ]
     },
     "execution_count": 20,
     "metadata": {},
     "output_type": "execute_result"
    }
   ],
   "source": [
    "idn_df.head()"
   ]
  },
  {
   "cell_type": "code",
   "execution_count": 21,
   "id": "00eee466-7bc9-4cee-bfe7-4b2ecf55c2ac",
   "metadata": {},
   "outputs": [
    {
     "data": {
      "text/html": [
       "<div>\n",
       "<style scoped>\n",
       "    .dataframe tbody tr th:only-of-type {\n",
       "        vertical-align: middle;\n",
       "    }\n",
       "\n",
       "    .dataframe tbody tr th {\n",
       "        vertical-align: top;\n",
       "    }\n",
       "\n",
       "    .dataframe thead th {\n",
       "        text-align: right;\n",
       "    }\n",
       "</style>\n",
       "<table border=\"1\" class=\"dataframe\">\n",
       "  <thead>\n",
       "    <tr style=\"text-align: right;\">\n",
       "      <th>SUBJECT</th>\n",
       "      <th>BEEF</th>\n",
       "      <th>PIG</th>\n",
       "      <th>POULTRY</th>\n",
       "      <th>SHEEP</th>\n",
       "    </tr>\n",
       "    <tr>\n",
       "      <th>TIME</th>\n",
       "      <th></th>\n",
       "      <th></th>\n",
       "      <th></th>\n",
       "      <th></th>\n",
       "    </tr>\n",
       "  </thead>\n",
       "  <tbody>\n",
       "    <tr>\n",
       "      <th>1990</th>\n",
       "      <td>3.060000e+08</td>\n",
       "      <td>5.460000e+08</td>\n",
       "      <td>5.090000e+08</td>\n",
       "      <td>9.000000e+07</td>\n",
       "    </tr>\n",
       "    <tr>\n",
       "      <th>1991</th>\n",
       "      <td>3.140000e+08</td>\n",
       "      <td>5.750000e+08</td>\n",
       "      <td>5.840000e+08</td>\n",
       "      <td>9.400000e+07</td>\n",
       "    </tr>\n",
       "    <tr>\n",
       "      <th>1992</th>\n",
       "      <td>3.470000e+08</td>\n",
       "      <td>5.860000e+08</td>\n",
       "      <td>5.480000e+08</td>\n",
       "      <td>1.000000e+08</td>\n",
       "    </tr>\n",
       "    <tr>\n",
       "      <th>1993</th>\n",
       "      <td>4.030000e+08</td>\n",
       "      <td>6.230000e+08</td>\n",
       "      <td>6.990000e+08</td>\n",
       "      <td>1.120000e+08</td>\n",
       "    </tr>\n",
       "    <tr>\n",
       "      <th>1994</th>\n",
       "      <td>3.920000e+08</td>\n",
       "      <td>6.610000e+08</td>\n",
       "      <td>8.160000e+08</td>\n",
       "      <td>1.000000e+08</td>\n",
       "    </tr>\n",
       "  </tbody>\n",
       "</table>\n",
       "</div>"
      ],
      "text/plain": [
       "SUBJECT          BEEF           PIG       POULTRY         SHEEP\n",
       "TIME                                                           \n",
       "1990     3.060000e+08  5.460000e+08  5.090000e+08  9.000000e+07\n",
       "1991     3.140000e+08  5.750000e+08  5.840000e+08  9.400000e+07\n",
       "1992     3.470000e+08  5.860000e+08  5.480000e+08  1.000000e+08\n",
       "1993     4.030000e+08  6.230000e+08  6.990000e+08  1.120000e+08\n",
       "1994     3.920000e+08  6.610000e+08  8.160000e+08  1.000000e+08"
      ]
     },
     "execution_count": 21,
     "metadata": {},
     "output_type": "execute_result"
    }
   ],
   "source": [
    "time_idn = idn_df.groupby([\"TIME\",\"SUBJECT\"])[\"Value\"].sum().unstack()\n",
    "time_idn.head()"
   ]
  },
  {
   "cell_type": "code",
   "execution_count": 22,
   "id": "1be8edd5-a3fd-4139-9165-6f7425ed404b",
   "metadata": {},
   "outputs": [
    {
     "data": {
      "image/png": "[encoded data removed]",
      "text/plain": [
       "<Figure size 1000x600 with 1 Axes>"
      ]
     },
     "metadata": {},
     "output_type": "display_data"
    }
   ],
   "source": [
    "plt.figure(figsize = (10,6))\n",
    "\n",
    "for i, column in enumerate(time_idn.columns):\n",
    "    plt.plot(time_idn.index, time_idn[column], marker = 'o', color = colors[i])\n",
    "\n",
    "plt.xlabel(\"Time\", fontsize = 10)\n",
    "plt.ylabel(\"Meat Types\", fontsize = 10)\n",
    "plt.title(\"Meat Consumption in Indonesia over the Years\", fontsize = 12)\n",
    "plt.legend(time_idn.columns, fontsize = 10)\n",
    "plt.show()"
   ]
  },
  {
   "cell_type": "code",
   "execution_count": 26,
   "id": "40166bf5-a9f6-4f40-a41a-cf50217bf7a7",
   "metadata": {},
   "outputs": [
    {
     "data": {
      "text/html": [
       "<div>\n",
       "<style scoped>\n",
       "    .dataframe tbody tr th:only-of-type {\n",
       "        vertical-align: middle;\n",
       "    }\n",
       "\n",
       "    .dataframe tbody tr th {\n",
       "        vertical-align: top;\n",
       "    }\n",
       "\n",
       "    .dataframe thead th {\n",
       "        text-align: right;\n",
       "    }\n",
       "</style>\n",
       "<table border=\"1\" class=\"dataframe\">\n",
       "  <thead>\n",
       "    <tr style=\"text-align: right;\">\n",
       "      <th>SUBJECT</th>\n",
       "      <th>BEEF</th>\n",
       "      <th>PIG</th>\n",
       "      <th>POULTRY</th>\n",
       "      <th>SHEEP</th>\n",
       "    </tr>\n",
       "    <tr>\n",
       "      <th>TIME</th>\n",
       "      <th></th>\n",
       "      <th></th>\n",
       "      <th></th>\n",
       "      <th></th>\n",
       "    </tr>\n",
       "  </thead>\n",
       "  <tbody>\n",
       "    <tr>\n",
       "      <th>1990</th>\n",
       "      <td>3.510953e+07</td>\n",
       "      <td>6.117427e+07</td>\n",
       "      <td>5.366684e+07</td>\n",
       "      <td>1.066460e+07</td>\n",
       "    </tr>\n",
       "    <tr>\n",
       "      <th>1991</th>\n",
       "      <td>3.683196e+07</td>\n",
       "      <td>9.572383e+07</td>\n",
       "      <td>6.081127e+07</td>\n",
       "      <td>1.104858e+07</td>\n",
       "    </tr>\n",
       "    <tr>\n",
       "      <th>1992</th>\n",
       "      <td>5.418978e+07</td>\n",
       "      <td>9.928527e+07</td>\n",
       "      <td>1.200787e+08</td>\n",
       "      <td>2.348803e+07</td>\n",
       "    </tr>\n",
       "    <tr>\n",
       "      <th>1993</th>\n",
       "      <td>5.449982e+07</td>\n",
       "      <td>2.123694e+08</td>\n",
       "      <td>1.271866e+08</td>\n",
       "      <td>2.419764e+07</td>\n",
       "    </tr>\n",
       "    <tr>\n",
       "      <th>1994</th>\n",
       "      <td>5.681476e+07</td>\n",
       "      <td>2.215276e+08</td>\n",
       "      <td>1.383068e+08</td>\n",
       "      <td>2.476940e+07</td>\n",
       "    </tr>\n",
       "    <tr>\n",
       "      <th>1995</th>\n",
       "      <td>5.841863e+07</td>\n",
       "      <td>2.237844e+08</td>\n",
       "      <td>1.498326e+08</td>\n",
       "      <td>2.552929e+07</td>\n",
       "    </tr>\n",
       "    <tr>\n",
       "      <th>1996</th>\n",
       "      <td>5.978506e+07</td>\n",
       "      <td>2.224095e+08</td>\n",
       "      <td>1.489043e+08</td>\n",
       "      <td>2.471538e+07</td>\n",
       "    </tr>\n",
       "    <tr>\n",
       "      <th>1997</th>\n",
       "      <td>6.135297e+07</td>\n",
       "      <td>2.349195e+08</td>\n",
       "      <td>1.591687e+08</td>\n",
       "      <td>2.586018e+07</td>\n",
       "    </tr>\n",
       "    <tr>\n",
       "      <th>1998</th>\n",
       "      <td>6.195835e+07</td>\n",
       "      <td>2.507496e+08</td>\n",
       "      <td>1.652448e+08</td>\n",
       "      <td>2.673738e+07</td>\n",
       "    </tr>\n",
       "    <tr>\n",
       "      <th>1999</th>\n",
       "      <td>6.274903e+07</td>\n",
       "      <td>2.507422e+08</td>\n",
       "      <td>1.722482e+08</td>\n",
       "      <td>2.712981e+07</td>\n",
       "    </tr>\n",
       "    <tr>\n",
       "      <th>2000</th>\n",
       "      <td>1.596960e+08</td>\n",
       "      <td>2.564119e+08</td>\n",
       "      <td>1.814817e+08</td>\n",
       "      <td>2.831904e+07</td>\n",
       "    </tr>\n",
       "    <tr>\n",
       "      <th>2001</th>\n",
       "      <td>1.568325e+08</td>\n",
       "      <td>2.623604e+08</td>\n",
       "      <td>1.891960e+08</td>\n",
       "      <td>2.859293e+07</td>\n",
       "    </tr>\n",
       "    <tr>\n",
       "      <th>2002</th>\n",
       "      <td>1.634011e+08</td>\n",
       "      <td>2.713309e+08</td>\n",
       "      <td>1.980229e+08</td>\n",
       "      <td>2.934274e+07</td>\n",
       "    </tr>\n",
       "    <tr>\n",
       "      <th>2003</th>\n",
       "      <td>1.607878e+08</td>\n",
       "      <td>2.693253e+08</td>\n",
       "      <td>2.011365e+08</td>\n",
       "      <td>2.893562e+07</td>\n",
       "    </tr>\n",
       "    <tr>\n",
       "      <th>2004</th>\n",
       "      <td>1.641872e+08</td>\n",
       "      <td>2.716975e+08</td>\n",
       "      <td>2.052156e+08</td>\n",
       "      <td>2.984511e+07</td>\n",
       "    </tr>\n",
       "    <tr>\n",
       "      <th>2005</th>\n",
       "      <td>1.641514e+08</td>\n",
       "      <td>2.790842e+08</td>\n",
       "      <td>2.170961e+08</td>\n",
       "      <td>3.092713e+07</td>\n",
       "    </tr>\n",
       "    <tr>\n",
       "      <th>2006</th>\n",
       "      <td>1.670283e+08</td>\n",
       "      <td>2.862468e+08</td>\n",
       "      <td>2.230139e+08</td>\n",
       "      <td>3.194621e+07</td>\n",
       "    </tr>\n",
       "    <tr>\n",
       "      <th>2007</th>\n",
       "      <td>1.724503e+08</td>\n",
       "      <td>2.817517e+08</td>\n",
       "      <td>2.354248e+08</td>\n",
       "      <td>3.285994e+07</td>\n",
       "    </tr>\n",
       "    <tr>\n",
       "      <th>2008</th>\n",
       "      <td>1.727376e+08</td>\n",
       "      <td>2.946739e+08</td>\n",
       "      <td>2.445105e+08</td>\n",
       "      <td>3.269159e+07</td>\n",
       "    </tr>\n",
       "    <tr>\n",
       "      <th>2009</th>\n",
       "      <td>1.730918e+08</td>\n",
       "      <td>3.005339e+08</td>\n",
       "      <td>2.503433e+08</td>\n",
       "      <td>3.258772e+07</td>\n",
       "    </tr>\n",
       "    <tr>\n",
       "      <th>2010</th>\n",
       "      <td>1.729819e+08</td>\n",
       "      <td>3.086071e+08</td>\n",
       "      <td>2.612180e+08</td>\n",
       "      <td>3.268972e+07</td>\n",
       "    </tr>\n",
       "    <tr>\n",
       "      <th>2011</th>\n",
       "      <td>1.704379e+08</td>\n",
       "      <td>3.058512e+08</td>\n",
       "      <td>2.699127e+08</td>\n",
       "      <td>3.218681e+07</td>\n",
       "    </tr>\n",
       "    <tr>\n",
       "      <th>2012</th>\n",
       "      <td>1.716112e+08</td>\n",
       "      <td>3.143369e+08</td>\n",
       "      <td>2.755578e+08</td>\n",
       "      <td>3.304661e+07</td>\n",
       "    </tr>\n",
       "    <tr>\n",
       "      <th>2013</th>\n",
       "      <td>1.733689e+08</td>\n",
       "      <td>3.234192e+08</td>\n",
       "      <td>2.777674e+08</td>\n",
       "      <td>3.419542e+07</td>\n",
       "    </tr>\n",
       "    <tr>\n",
       "      <th>2014</th>\n",
       "      <td>1.740300e+08</td>\n",
       "      <td>3.299693e+08</td>\n",
       "      <td>2.826048e+08</td>\n",
       "      <td>3.454296e+07</td>\n",
       "    </tr>\n",
       "    <tr>\n",
       "      <th>2015</th>\n",
       "      <td>1.743071e+08</td>\n",
       "      <td>3.309682e+08</td>\n",
       "      <td>2.946641e+08</td>\n",
       "      <td>3.566626e+07</td>\n",
       "    </tr>\n",
       "    <tr>\n",
       "      <th>2016</th>\n",
       "      <td>1.781638e+08</td>\n",
       "      <td>3.292182e+08</td>\n",
       "      <td>3.015178e+08</td>\n",
       "      <td>3.621908e+07</td>\n",
       "    </tr>\n",
       "    <tr>\n",
       "      <th>2017</th>\n",
       "      <td>1.816077e+08</td>\n",
       "      <td>3.326711e+08</td>\n",
       "      <td>3.064535e+08</td>\n",
       "      <td>3.657601e+07</td>\n",
       "    </tr>\n",
       "    <tr>\n",
       "      <th>2018</th>\n",
       "      <td>1.832834e+08</td>\n",
       "      <td>3.346759e+08</td>\n",
       "      <td>3.090544e+08</td>\n",
       "      <td>3.743086e+07</td>\n",
       "    </tr>\n",
       "    <tr>\n",
       "      <th>2019</th>\n",
       "      <td>1.845852e+08</td>\n",
       "      <td>3.387317e+08</td>\n",
       "      <td>3.132177e+08</td>\n",
       "      <td>3.816388e+07</td>\n",
       "    </tr>\n",
       "    <tr>\n",
       "      <th>2020</th>\n",
       "      <td>1.861738e+08</td>\n",
       "      <td>3.424752e+08</td>\n",
       "      <td>3.170814e+08</td>\n",
       "      <td>3.924364e+07</td>\n",
       "    </tr>\n",
       "    <tr>\n",
       "      <th>2021</th>\n",
       "      <td>1.879717e+08</td>\n",
       "      <td>3.454417e+08</td>\n",
       "      <td>3.206856e+08</td>\n",
       "      <td>4.010596e+07</td>\n",
       "    </tr>\n",
       "    <tr>\n",
       "      <th>2022</th>\n",
       "      <td>1.898580e+08</td>\n",
       "      <td>3.475423e+08</td>\n",
       "      <td>3.244530e+08</td>\n",
       "      <td>4.081581e+07</td>\n",
       "    </tr>\n",
       "    <tr>\n",
       "      <th>2023</th>\n",
       "      <td>1.916781e+08</td>\n",
       "      <td>3.509011e+08</td>\n",
       "      <td>3.281888e+08</td>\n",
       "      <td>4.155399e+07</td>\n",
       "    </tr>\n",
       "  </tbody>\n",
       "</table>\n",
       "</div>"
      ],
      "text/plain": [
       "SUBJECT          BEEF           PIG       POULTRY         SHEEP\n",
       "TIME                                                           \n",
       "1990     3.510953e+07  6.117427e+07  5.366684e+07  1.066460e+07\n",
       "1991     3.683196e+07  9.572383e+07  6.081127e+07  1.104858e+07\n",
       "1992     5.418978e+07  9.928527e+07  1.200787e+08  2.348803e+07\n",
       "1993     5.449982e+07  2.123694e+08  1.271866e+08  2.419764e+07\n",
       "1994     5.681476e+07  2.215276e+08  1.383068e+08  2.476940e+07\n",
       "1995     5.841863e+07  2.237844e+08  1.498326e+08  2.552929e+07\n",
       "1996     5.978506e+07  2.224095e+08  1.489043e+08  2.471538e+07\n",
       "1997     6.135297e+07  2.349195e+08  1.591687e+08  2.586018e+07\n",
       "1998     6.195835e+07  2.507496e+08  1.652448e+08  2.673738e+07\n",
       "1999     6.274903e+07  2.507422e+08  1.722482e+08  2.712981e+07\n",
       "2000     1.596960e+08  2.564119e+08  1.814817e+08  2.831904e+07\n",
       "2001     1.568325e+08  2.623604e+08  1.891960e+08  2.859293e+07\n",
       "2002     1.634011e+08  2.713309e+08  1.980229e+08  2.934274e+07\n",
       "2003     1.607878e+08  2.693253e+08  2.011365e+08  2.893562e+07\n",
       "2004     1.641872e+08  2.716975e+08  2.052156e+08  2.984511e+07\n",
       "2005     1.641514e+08  2.790842e+08  2.170961e+08  3.092713e+07\n",
       "2006     1.670283e+08  2.862468e+08  2.230139e+08  3.194621e+07\n",
       "2007     1.724503e+08  2.817517e+08  2.354248e+08  3.285994e+07\n",
       "2008     1.727376e+08  2.946739e+08  2.445105e+08  3.269159e+07\n",
       "2009     1.730918e+08  3.005339e+08  2.503433e+08  3.258772e+07\n",
       "2010     1.729819e+08  3.086071e+08  2.612180e+08  3.268972e+07\n",
       "2011     1.704379e+08  3.058512e+08  2.699127e+08  3.218681e+07\n",
       "2012     1.716112e+08  3.143369e+08  2.755578e+08  3.304661e+07\n",
       "2013     1.733689e+08  3.234192e+08  2.777674e+08  3.419542e+07\n",
       "2014     1.740300e+08  3.299693e+08  2.826048e+08  3.454296e+07\n",
       "2015     1.743071e+08  3.309682e+08  2.946641e+08  3.566626e+07\n",
       "2016     1.781638e+08  3.292182e+08  3.015178e+08  3.621908e+07\n",
       "2017     1.816077e+08  3.326711e+08  3.064535e+08  3.657601e+07\n",
       "2018     1.832834e+08  3.346759e+08  3.090544e+08  3.743086e+07\n",
       "2019     1.845852e+08  3.387317e+08  3.132177e+08  3.816388e+07\n",
       "2020     1.861738e+08  3.424752e+08  3.170814e+08  3.924364e+07\n",
       "2021     1.879717e+08  3.454417e+08  3.206856e+08  4.010596e+07\n",
       "2022     1.898580e+08  3.475423e+08  3.244530e+08  4.081581e+07\n",
       "2023     1.916781e+08  3.509011e+08  3.281888e+08  4.155399e+07"
      ]
     },
     "execution_count": 26,
     "metadata": {},
     "output_type": "execute_result"
    }
   ],
   "source": [
    "# dataset without Indonesia\n",
    "df_widn = df[(df['LOCATION'] != \"IDN\") & (df[\"TIME\"] <= 2023)]\n",
    "loc_values = df_widn[\"LOCATION\"].unique\n",
    "\n",
    "\n",
    "time_global = df_widn.groupby([\"TIME\",\"SUBJECT\"])[\"Value\"].sum().unstack()\n",
    "time_global"
   ]
  },
  {
   "cell_type": "code",
   "execution_count": 27,
   "id": "55cc9633-0393-47c9-bbf5-fb1d4899181c",
   "metadata": {},
   "outputs": [
    {
     "data": {
      "image/png": "[encoded data removed]",
      "text/plain": [
       "<Figure size 1000x600 with 1 Axes>"
      ]
     },
     "metadata": {},
     "output_type": "display_data"
    }
   ],
   "source": [
    "plt.figure(figsize = (10,6))\n",
    "\n",
    "for i, column in enumerate(time_global.columns):\n",
    "    plt.plot(time_global.index, time_global[column], marker = 'o', color = colors[i])\n",
    "\n",
    "plt.xlabel(\"Time\", fontsize = 10)\n",
    "plt.ylabel(\"Meat Types\", fontsize = 10)\n",
    "plt.title(\"Meat Consumption Worldwide over the Years\", fontsize = 12)\n",
    "plt.legend(time_global.columns, fontsize = 10)\n",
    "plt.show()"
   ]
  },
  {
   "cell_type": "markdown",
   "id": "e867ab1c-becc-4058-9674-60629f2c51e7",
   "metadata": {},
   "source": [
    "In both lineplots, suprisingly, sheep has the least consumption over time. It is also seen that all four types of meat has increased in the amount of meat consumption throughout the years. However, in the case of Indonesia, poultry is the highest consumed meat in the country while worldwide, pig seems the most popular after 1995. \n",
    "\n",
    "Consumption of pig and beef in Indonesia increases throughout the years, however, their values have always stayed pretty similiar to each other. On the other hand, worldwide, Pig consumption has always been higher than beef and on recent years, pig consumption is doubled than beef."
   ]
  },
  {
   "cell_type": "markdown",
   "id": "cd6c0ebe-4ee6-4bf2-9cd1-945128c46e33",
   "metadata": {},
   "source": [
    "## Results"
   ]
  },
  {
   "cell_type": "markdown",
   "id": "d3268658-78bb-4641-a4ad-5235c5f24591",
   "metadata": {},
   "source": [
    "This EDA has revealed numerous insights:\n",
    "- Countries that have the highest meat consumption are China, USA, Brazil.\n",
    "- Most consumed meat in the world currently is Pig followed by poultry, beef and finally sheep.\n",
    "- In Indonesia, the most consumed meat is poultry followed by pig, beef and finally sheep. Suprisingly, pig was consumed more than beef and sheep even though the population is muslim-dominated.\n",
    "- Consumption of poultry is highest in Indonesia while worldwide, pig is the most consumed type of meat. Sheep is consumed the least in both worlwide and Indonesia."
   ]
  },
  {
   "cell_type": "code",
   "execution_count": null,
   "id": "abfcf95c-abc4-481a-9e34-cd382a219d6e",
   "metadata": {},
   "outputs": [],
   "source": []
  }
 ],
 "metadata": {
  "kernelspec": {
   "display_name": "Python 3 (ipykernel)",
   "language": "python",
   "name": "python3"
  },
  "language_info": {
   "codemirror_mode": {
    "name": "ipython",
    "version": 3
   },
   "file_extension": ".py",
   "mimetype": "text/x-python",
   "name": "python",
   "nbconvert_exporter": "python",
   "pygments_lexer": "ipython3",
   "version": "3.9.13"
  },
  "toc-autonumbering": true
 },
 "nbformat": 4,
 "nbformat_minor": 5
}
